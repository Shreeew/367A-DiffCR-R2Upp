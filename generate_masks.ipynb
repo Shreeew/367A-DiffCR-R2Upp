{
 "cells": [
  {
   "cell_type": "markdown",
   "metadata": {},
   "source": [
    "# Generate masks"
   ]
  },
  {
   "cell_type": "markdown",
   "metadata": {},
   "source": [
    "This notebook generates segmentation masks from Solafune's annotation JSON file.  \n",
    "The masks are saved as `.npy` files for efficient loading during model training."
   ]
  },
  {
   "cell_type": "code",
   "execution_count": 2,
   "metadata": {},
   "outputs": [],
   "source": [
    "import json\n",
    "from pathlib import Path\n",
    "\n",
    "import cv2\n",
    "import numpy as np\n",
    "import tifffile\n",
    "from tqdm import tqdm"
   ]
  },
  {
   "cell_type": "code",
   "execution_count": 3,
   "metadata": {},
   "outputs": [],
   "source": [
    "data_dir = Path(\"./data\")"
   ]
  },
  {
   "cell_type": "code",
   "execution_count": 4,
   "metadata": {},
   "outputs": [
    {
     "name": "stderr",
     "output_type": "stream",
     "text": [
      "100%|██████████| 176/176 [00:00<00:00, 88006.38it/s]\n"
     ]
    }
   ],
   "source": [
    "train_file_names = [f\"train_{i}.tif\" for i in range(176)]  # train_0.tif ~ train_175.tif\n",
    "class_names = [\"grassland_shrubland\", \"logging\", \"mining\", \"plantation\"]\n",
    "\n",
    "with open(data_dir / \"train_annotations.json\", \"r\") as f:\n",
    "    raw_annotations = json.load(f)\n",
    "\n",
    "annotations: dict[str, dict[str, list[list[float]]]] = {}  # file_name -> class_name -> polygons\n",
    "for fn in tqdm(train_file_names):\n",
    "    ann: dict[str, list[list[float]]] = {}  # class_name -> polygons\n",
    "    for class_name in class_names:\n",
    "        ann[class_name] = []\n",
    "\n",
    "    for tmp_img in raw_annotations[\"images\"]:\n",
    "        if tmp_img[\"file_name\"] == fn:\n",
    "            for tmp_ann in tmp_img[\"annotations\"]:\n",
    "                ann[tmp_ann[\"class\"]].append(tmp_ann[\"segmentation\"])\n",
    "\n",
    "    annotations[fn] = ann"
   ]
  },
  {
   "cell_type": "code",
   "execution_count": 5,
   "metadata": {},
   "outputs": [
    {
     "name": "stderr",
     "output_type": "stream",
     "text": [
      "100%|██████████| 176/176 [00:00<00:00, 492.48it/s]\n"
     ]
    }
   ],
   "source": [
    "mask_save_dir = data_dir / \"train_masks\"\n",
    "mask_save_dir.mkdir(parents=True, exist_ok=True)\n",
    "\n",
    "for fn in tqdm(train_file_names):\n",
    "    mask = np.zeros((4, 1024, 1024), dtype=np.uint8)\n",
    "    anns = annotations[fn]\n",
    "    for class_idx, class_name in enumerate(class_names):\n",
    "        polygons = anns[class_name]\n",
    "        cv2.fillPoly(mask[class_idx], [np.array(poly).astype(np.int32).reshape(-1, 2) for poly in polygons], 255)\n",
    "\n",
    "    np.save(mask_save_dir / fn.replace(\".tif\", \".npy\"), mask)"
   ]
  },
  {
   "cell_type": "code",
   "execution_count": null,
   "metadata": {},
   "outputs": [],
   "source": []
  }
 ],
 "metadata": {
  "kernelspec": {
   "display_name": "INF367A",
   "language": "python",
   "name": "python3"
  },
  "language_info": {
   "codemirror_mode": {
    "name": "ipython",
    "version": 3
   },
   "file_extension": ".py",
   "mimetype": "text/x-python",
   "name": "python",
   "nbconvert_exporter": "python",
   "pygments_lexer": "ipython3",
   "version": "3.9.21"
  }
 },
 "nbformat": 4,
 "nbformat_minor": 2
}
